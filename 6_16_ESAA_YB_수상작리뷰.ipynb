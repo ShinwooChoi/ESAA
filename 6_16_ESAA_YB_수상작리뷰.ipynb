{
  "nbformat": 4,
  "nbformat_minor": 0,
  "metadata": {
    "colab": {
      "provenance": [],
      "authorship_tag": "ABX9TyM5ewojcuJKwZAlgilbLGLF",
      "include_colab_link": true
    },
    "kernelspec": {
      "name": "python3",
      "display_name": "Python 3"
    },
    "language_info": {
      "name": "python"
    }
  },
  "cells": [
    {
      "cell_type": "markdown",
      "metadata": {
        "id": "view-in-github",
        "colab_type": "text"
      },
      "source": [
        "<a href=\"https://colab.research.google.com/github/ShinwooChoi/ESAA/blob/main/6_16_ESAA_YB_%EC%88%98%EC%83%81%EC%9E%91%EB%A6%AC%EB%B7%B0.ipynb\" target=\"_parent\"><img src=\"https://colab.research.google.com/assets/colab-badge.svg\" alt=\"Open In Colab\"/></a>"
      ]
    },
    {
      "cell_type": "markdown",
      "source": [
        "[주제]\n",
        "\n",
        "은행 고객 이탈 여부 예측 AI\n",
        "\n",
        "\n",
        "[데이터 정보]\n",
        "\n",
        "train.csv [파일] 은행 고객 관련 정보 ID : 샘플 별 고유 ID Exited : 이탈 여부 ( 예측 목표 )\n",
        "\n",
        "Client_ID: 고객 ID (개별 고객을 구분하는 값) Exited: 고객의 이탈 여부 (0: 이탈하지 않음, 1: 이탈) Account_Balance: 계좌 잔고 Sex: 성별 Full_Name: 고객의 이름 Product_Count: 고객이 사용 중인 제품 수 Has_Credit_Card: 신용카드 보유 여부 (0: 없음, 1: 있음) Estimated_Income: 추정 소득 Country: 고객의 거주 국가 Active_Status: 활동 상태 (0: 비활성, 1: 활성) Years_Old: 고객의 나이 Credit_Rating: 신용 등급 Length_of_Service: 근속 연수\n",
        "\n",
        "test.csv [파일] 은행 고객 관련 정보 ID : 샘플 별 고유 ID\n",
        "\n",
        "\n",
        "[EDA]\n",
        "\n",
        "- 타겟 분포 확인 (바 플롯)\n",
        "- 수치형 변수만 확인\n",
        "- 상관관계 분석\n",
        "- 히트맵 시각화\n",
        "- 국가별 이탈 여부 확인 (바 플롯)\n",
        "- 나이별 이탈 여부 확인 (박스 플롯)\n",
        "- 60대 이상의 고객 중 이탈하지 않은 고객 필터링\n",
        "- 계좌 간고와 이탈 여부 확인 (박스 플롯)\n",
        "- 제품 수와 이탈 여부 확인 (바 플롯)\n",
        "- 범주형 인코딩\n",
        "- SMOTE로 클래스 불균형 조정\n",
        "- 모델 설정 및 하이퍼파라미터 튜닝\n",
        "\n",
        "[모델링]\n",
        "\n",
        "- XGBoost 최적화\n",
        "- LightGBM 최적화\n",
        "- CatBoost 최적화\n",
        "- Stacking 메타 모델 설정(Logistic Regression 사용)\n",
        "\n",
        "[차별점 및 배울점]\n",
        "- 변수를 필터링하여 데이터에 대한 분석을 구체화\n",
        "- 이탈 예측 문제에 효과적인 CatBoost 적용\n",
        "\n"
      ],
      "metadata": {
        "id": "JGf_ze-n8xYH"
      }
    },
    {
      "cell_type": "code",
      "execution_count": null,
      "metadata": {
        "id": "03vmfY718oat"
      },
      "outputs": [],
      "source": []
    }
  ]
}