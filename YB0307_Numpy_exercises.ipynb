{
  "nbformat": 4,
  "nbformat_minor": 5,
  "metadata": {
    "colab": {
      "provenance": [],
      "include_colab_link": true
    },
    "language_info": {
      "name": "python"
    },
    "kernelspec": {
      "name": "python3",
      "display_name": "Python 3"
    }
  },
  "cells": [
    {
      "cell_type": "markdown",
      "metadata": {
        "id": "view-in-github",
        "colab_type": "text"
      },
      "source": [
        "<a href=\"https://colab.research.google.com/github/ShinwooChoi/ESAA/blob/main/YB0307_Numpy_exercises.ipynb\" target=\"_parent\"><img src=\"https://colab.research.google.com/assets/colab-badge.svg\" alt=\"Open In Colab\"/></a>"
      ]
    },
    {
      "cell_type": "markdown",
      "metadata": {
        "id": "78250c14"
      },
      "source": [
        "#### 21. Multiply a 5x3 matrix by a 3x2 matrix (real matrix product) (★☆☆)"
      ],
      "id": "78250c14"
    },
    {
      "cell_type": "code",
      "metadata": {
        "id": "9fe729cb",
        "colab": {
          "base_uri": "https://localhost:8080/"
        },
        "outputId": "845e281a-e781-4542-eb2d-feeab4b46475"
      },
      "source": [
        "import numpy as np\n",
        "\n",
        "A = np.random.random((5,3))\n",
        "B = np.random.random((3,2))\n",
        "\n",
        "print(\"5X3 matrix:\\n\", A)\n",
        "print(\"3X2 matrix:\\n\", B)\n",
        "print(\"Multiply two matrix:\\n\", np.dot(A,B))"
      ],
      "id": "9fe729cb",
      "execution_count": 11,
      "outputs": [
        {
          "output_type": "stream",
          "name": "stdout",
          "text": [
            "5X3 matrix:\n",
            " [[0.86605393 0.44361745 0.72655749]\n",
            " [0.65297927 0.76475029 0.98983854]\n",
            " [0.273942   0.493184   0.09210648]\n",
            " [0.06108652 0.874082   0.06865089]\n",
            " [0.30009696 0.12957453 0.76801912]]\n",
            "3X2 matrix:\n",
            " [[0.12062542 0.90709269]\n",
            " [0.22711902 0.93658395]\n",
            " [0.96074057 0.6192217 ]]\n",
            "Multiply two matrix:\n",
            " [[0.90325533 1.65097632]\n",
            " [1.20343327 1.92149507]\n",
            " [0.23354626 0.76743334]\n",
            " [0.27184492 0.91657242]\n",
            " [0.80349528 0.86914728]]\n"
          ]
        }
      ]
    },
    {
      "cell_type": "markdown",
      "metadata": {
        "id": "51898680"
      },
      "source": [
        "#### 22. Given a 1D array, negate all elements which are between 3 and 8, in place. (★☆☆)"
      ],
      "id": "51898680"
    },
    {
      "cell_type": "code",
      "source": [
        "array1 = np.arange(10)\n",
        "array1[(3 < array1) & (array1 < 8)] *= -1\n",
        "print(array1)"
      ],
      "metadata": {
        "colab": {
          "base_uri": "https://localhost:8080/"
        },
        "id": "wc9KlLR1paf1",
        "outputId": "ae9aa0f6-a67c-4437-c8f5-2d43fa53e6d2"
      },
      "id": "wc9KlLR1paf1",
      "execution_count": 12,
      "outputs": [
        {
          "output_type": "stream",
          "name": "stdout",
          "text": [
            "[ 0  1  2  3 -4 -5 -6 -7  8  9]\n"
          ]
        }
      ]
    },
    {
      "cell_type": "markdown",
      "metadata": {
        "id": "89e78048"
      },
      "source": [
        "#### 23. What is the output of the following script? (★☆☆)\n",
        "```python\n",
        "# Author: Jake VanderPlas\n",
        "\n",
        "print(sum(range(5),-1))\n",
        "from numpy import *\n",
        "print(sum(range(5),-1))\n",
        "```"
      ],
      "id": "89e78048"
    },
    {
      "cell_type": "markdown",
      "source": [
        "9 10"
      ],
      "metadata": {
        "id": "0DkrFvO0lvsh"
      },
      "id": "0DkrFvO0lvsh"
    },
    {
      "cell_type": "markdown",
      "metadata": {
        "id": "ebd10810"
      },
      "source": [
        "#### 24. Consider an integer vector Z, which of these expressions are legal? (★☆☆)₩\n",
        "```python\n",
        "Z**Z\n",
        "2 << Z >> 2\n",
        "Z <- Z\n",
        "1j*Z\n",
        "Z/1/1\n",
        "Z<Z>Z\n",
        "```"
      ],
      "id": "ebd10810"
    },
    {
      "cell_type": "markdown",
      "source": [
        "1. 유효\n",
        "2. 유효\n",
        "3. 무효: '<-'는 존재하지 않는 연산자 (SyntaxError)\n",
        "4. 유효\n",
        "5. 유효\n",
        "6. 무효: 잘못된 비교 연산 (ValueError)\n"
      ],
      "metadata": {
        "id": "tkKKOmgWmQ9U"
      },
      "id": "tkKKOmgWmQ9U"
    },
    {
      "cell_type": "markdown",
      "metadata": {
        "id": "c0e940f8"
      },
      "source": [
        "#### 25. What are the result of the following expressions? (★☆☆)\n",
        "```python\n",
        "np.array(0) / np.array(0)\n",
        "np.array(0) // np.array(0)\n",
        "np.array([np.nan]).astype(int).astype(float)\n",
        "```"
      ],
      "id": "c0e940f8"
    },
    {
      "cell_type": "markdown",
      "source": [
        "- 0 / 0 은 수학적으로 정의되지 않음.\n",
        "- 0 // 0 정수 나눗셈 역시 정의되지 않음.\n",
        "- 이때, '/'와 '//'의 차이점은 '/'은 실수형 나눗셈, '//'은 나눈 후 내림 결과 도출\n",
        "- NaN을 값을 포함한 배열 생성 -> 정수형으로 변환 -> 실수형으로 변환"
      ],
      "metadata": {
        "id": "H4kCQtOlmdmD"
      },
      "id": "H4kCQtOlmdmD"
    },
    {
      "cell_type": "markdown",
      "metadata": {
        "id": "f1ae2c2d"
      },
      "source": [
        "#### 26. How to find common values between two arrays? (★☆☆)\n",
        "```python\n",
        "Z1 = np.random.randint(0,10,10)\n",
        "Z2 = np.random.randint(0,10,10)\n",
        "```\n",
        "Hint : use `numpy.random.randint(start, end, size)`"
      ],
      "id": "f1ae2c2d"
    },
    {
      "cell_type": "code",
      "source": [
        "Z1 = np.random.randint(0,10,10)\n",
        "Z2 = np.random.randint(0,10,10)\n",
        "print(Z1)\n",
        "print(Z2)\n",
        "\n",
        "common_values = np.intersect1d(Z1, Z2)\n",
        "print(common_values)\n"
      ],
      "metadata": {
        "colab": {
          "base_uri": "https://localhost:8080/"
        },
        "id": "cyBTKMnhtMAm",
        "outputId": "4e1d7bd8-b914-473b-ee29-ac09b208bc44"
      },
      "id": "cyBTKMnhtMAm",
      "execution_count": 13,
      "outputs": [
        {
          "output_type": "stream",
          "name": "stdout",
          "text": [
            "[5 3 9 3 9 0 3 8 0 6]\n",
            "[1 6 9 8 2 6 8 2 6 9]\n",
            "[6 8 9]\n"
          ]
        }
      ]
    },
    {
      "cell_type": "markdown",
      "metadata": {
        "id": "37bc0973"
      },
      "source": [
        "#### 27. Is the following expressions true? (★☆☆)\n",
        "```python\n",
        "np.sqrt(-1) == np.emath.sqrt(-1)\n",
        "```"
      ],
      "id": "37bc0973"
    },
    {
      "cell_type": "markdown",
      "source": [
        "False. nan!=1j\n",
        "\n",
        "False, emath가 복소수"
      ],
      "metadata": {
        "id": "nObjDabKF2nm"
      },
      "id": "nObjDabKF2nm"
    },
    {
      "cell_type": "markdown",
      "metadata": {
        "id": "42f8b2f9"
      },
      "source": [
        "#### 28. How to get all the dates corresponding to the month of July 2016? (★★☆)₩\n",
        "Hint : modify the code below\n",
        "```python\n",
        "Z = np.arange('start', 'end', dtype='datetime64[D]')\n",
        "```"
      ],
      "id": "42f8b2f9"
    },
    {
      "cell_type": "code",
      "source": [
        "Z = np.arange('2016-07-01', '2016-08-01', dtype='datetime64[D]')\n",
        "\n",
        "print(Z)"
      ],
      "metadata": {
        "colab": {
          "base_uri": "https://localhost:8080/"
        },
        "id": "HVZyKqtP-PbD",
        "outputId": "be84c1c2-d85b-497d-b952-52b8fcd8daff"
      },
      "id": "HVZyKqtP-PbD",
      "execution_count": 14,
      "outputs": [
        {
          "output_type": "stream",
          "name": "stdout",
          "text": [
            "['2016-07-01' '2016-07-02' '2016-07-03' '2016-07-04' '2016-07-05'\n",
            " '2016-07-06' '2016-07-07' '2016-07-08' '2016-07-09' '2016-07-10'\n",
            " '2016-07-11' '2016-07-12' '2016-07-13' '2016-07-14' '2016-07-15'\n",
            " '2016-07-16' '2016-07-17' '2016-07-18' '2016-07-19' '2016-07-20'\n",
            " '2016-07-21' '2016-07-22' '2016-07-23' '2016-07-24' '2016-07-25'\n",
            " '2016-07-26' '2016-07-27' '2016-07-28' '2016-07-29' '2016-07-30'\n",
            " '2016-07-31']\n"
          ]
        }
      ]
    },
    {
      "cell_type": "markdown",
      "metadata": {
        "id": "252c43e2"
      },
      "source": [
        "#### 29. How to compute ((A+B)*(-A/2)) in place (without copy)? (★★☆)\n",
        "Hint : use `numpy.add`, `numpy.divide`,`numpy.negative`, `numpy.multiply` and parameter `out` of the funtions"
      ],
      "id": "252c43e2"
    },
    {
      "cell_type": "code",
      "metadata": {
        "id": "f06ff615",
        "colab": {
          "base_uri": "https://localhost:8080/"
        },
        "outputId": "96598167-5257-48ab-da17-84bd92a17366"
      },
      "source": [
        "A = np.random.rand(3, 3) #3X3 랜덤 배열 생성\n",
        "B = np.random.rand(3, 3)\n",
        "\n",
        "C = np.add(A, B)\n",
        "\n",
        "D = np.divide(A, -2)\n",
        "\n",
        "E = np.multiply(A, A)\n",
        "\n",
        "print(E)"
      ],
      "id": "f06ff615",
      "execution_count": 15,
      "outputs": [
        {
          "output_type": "stream",
          "name": "stdout",
          "text": [
            "[[0.86125303 0.28035233 0.00108288]\n",
            " [0.71925642 0.02572106 0.02352705]\n",
            " [0.44407714 0.5487657  0.7459994 ]]\n"
          ]
        }
      ]
    },
    {
      "cell_type": "markdown",
      "metadata": {
        "id": "486df8ea"
      },
      "source": [
        "#### 30. Extract the integer part of a random array of positive numbers using 2 different methods (★★☆)\n",
        "Hint : `%`, `//`"
      ],
      "id": "486df8ea"
    },
    {
      "cell_type": "code",
      "metadata": {
        "id": "34b4fa08",
        "colab": {
          "base_uri": "https://localhost:8080/"
        },
        "outputId": "b6bab948-6751-4938-9273-43c3bae4c1ac"
      },
      "source": [
        "array2 = np.random.uniform(0, 10, 10)\n",
        "\n",
        "# 방법 1: np.floor() 사용\n",
        "int_part1 = np.floor(array2).astype(int)\n",
        "\n",
        "# 방법 2: astype를 사용\n",
        "int_part2 = array2.astype(int)\n",
        "\n",
        "print(\"원본 배열:\", array2)\n",
        "print(\"방법 1:\", int_part1)\n",
        "print(\"방법 2:\", int_part2)"
      ],
      "id": "34b4fa08",
      "execution_count": 16,
      "outputs": [
        {
          "output_type": "stream",
          "name": "stdout",
          "text": [
            "원본 배열: [5.52519402 7.99417295 7.30798102 5.44756305 9.18943755 4.78325289\n",
            " 4.11485724 3.10554105 3.56902958 9.48885598]\n",
            "방법 1: [5 7 7 5 9 4 4 3 3 9]\n",
            "방법 2: [5 7 7 5 9 4 4 3 3 9]\n"
          ]
        }
      ]
    },
    {
      "cell_type": "markdown",
      "metadata": {
        "id": "649e89f9"
      },
      "source": [
        "#### 31. Create a 5x5 matrix with row values ranging from 0 to 4 (★★☆)"
      ],
      "id": "649e89f9"
    },
    {
      "cell_type": "code",
      "metadata": {
        "id": "663cc611",
        "colab": {
          "base_uri": "https://localhost:8080/"
        },
        "outputId": "26c04dc4-af84-4de2-ca25-b91eacd117e5"
      },
      "source": [
        "matrix = np.tile(np.arange(5), (5, 1))\n",
        "\n",
        "print(matrix)"
      ],
      "id": "663cc611",
      "execution_count": 28,
      "outputs": [
        {
          "output_type": "stream",
          "name": "stdout",
          "text": [
            "[[0 1 2 3 4]\n",
            " [0 1 2 3 4]\n",
            " [0 1 2 3 4]\n",
            " [0 1 2 3 4]\n",
            " [0 1 2 3 4]]\n"
          ]
        }
      ]
    },
    {
      "cell_type": "markdown",
      "metadata": {
        "id": "2d07be1c"
      },
      "source": [
        "#### 32. Create a random vector of size 10 and sort it (★★☆)₩"
      ],
      "id": "2d07be1c"
    },
    {
      "cell_type": "code",
      "source": [
        "vector = np.random.rand(10)\n",
        "\n",
        "sorted_vector = np.sort(vector)\n",
        "\n",
        "print(\"Original Vector:\\n\", vector)\n",
        "print(\"Sorted Vector:\\n\", sorted_vector)\n"
      ],
      "metadata": {
        "colab": {
          "base_uri": "https://localhost:8080/"
        },
        "id": "5SNVUBOZ_FSC",
        "outputId": "c5355be1-b6c4-4db1-9ebe-fd23db10f346"
      },
      "id": "5SNVUBOZ_FSC",
      "execution_count": 27,
      "outputs": [
        {
          "output_type": "stream",
          "name": "stdout",
          "text": [
            "Original Vector:\n",
            " [0.68924219 0.45774237 0.95574173 0.21489705 0.44979478 0.06558158\n",
            " 0.05994053 0.08926584 0.8605815  0.48408893]\n",
            "Sorted Vector:\n",
            " [0.05994053 0.06558158 0.08926584 0.21489705 0.44979478 0.45774237\n",
            " 0.48408893 0.68924219 0.8605815  0.95574173]\n"
          ]
        }
      ]
    },
    {
      "cell_type": "markdown",
      "metadata": {
        "id": "fe043549"
      },
      "source": [
        "\n",
        "#### 33. Consider two random array A and B, check if they are equal (★★☆)\n",
        "```python\n",
        "A = np.random.randint(0,2,5)\n",
        "B = np.random.randint(0,2,5)\n",
        "```\n",
        "Hint : Use `numpy.array_equal()`"
      ],
      "id": "fe043549"
    },
    {
      "cell_type": "code",
      "metadata": {
        "id": "3326a686",
        "colab": {
          "base_uri": "https://localhost:8080/"
        },
        "outputId": "8ae32bfc-3a93-4318-cc0f-f8191a2bf1e0"
      },
      "source": [
        "\n",
        "A = np.random.randint(0,2,5)\n",
        "B = np.random.randint(0,2,5)\n",
        "\n",
        "print(np.array_equal(A,B))"
      ],
      "id": "3326a686",
      "execution_count": 18,
      "outputs": [
        {
          "output_type": "stream",
          "name": "stdout",
          "text": [
            "False\n"
          ]
        }
      ]
    },
    {
      "cell_type": "markdown",
      "metadata": {
        "id": "2002cb03"
      },
      "source": [
        "#### 34. Consider a random 10x2 matrix representing cartesian coordinates, convert them to polar coordinates (★★☆)\n",
        "Hint 1 : Note that cartesian coodinate **(x, y)** can be represented as  polar coordinates **(distance from origin to (x,y), angle from the x-axis)**\n",
        "\n",
        "Hint 2 : Use `numpy.sqrt` and `numpy.arctan2`"
      ],
      "id": "2002cb03"
    },
    {
      "cell_type": "code",
      "metadata": {
        "id": "58be72bc",
        "colab": {
          "base_uri": "https://localhost:8080/"
        },
        "outputId": "6dd85833-4cce-460e-a441-356cea8ee704"
      },
      "source": [
        "# 랜덤 행렬 생성\n",
        "cartesian_matrix = np.random.rand(10, 2)\n",
        "\n",
        "# 극좌표 변환\n",
        "r = np.sqrt(cartesian_matrix[:, 0]**2 + cartesian_matrix[:, 1]**2)\n",
        "theta = np.arctan2(cartesian_matrix[:, 1], cartesian_matrix[:, 0])\n",
        "\n",
        "# 결과 출력\n",
        "print(\"Cartesian Coordinates:\", cartesian_matrix)\n",
        "print(\"\\nPolar Coordinates:\", np.column_stack((r, theta)))"
      ],
      "id": "58be72bc",
      "execution_count": 19,
      "outputs": [
        {
          "output_type": "stream",
          "name": "stdout",
          "text": [
            "Cartesian Coordinates: [[0.56093009 0.95168969]\n",
            " [0.23793921 0.15983269]\n",
            " [0.12465523 0.56140949]\n",
            " [0.02672459 0.16247013]\n",
            " [0.930084   0.7350399 ]\n",
            " [0.24075505 0.67376779]\n",
            " [0.79899631 0.75924909]\n",
            " [0.40874606 0.95107897]\n",
            " [0.70634081 0.86872845]\n",
            " [0.07598163 0.51727517]]\n",
            "\n",
            "Polar Coordinates: [[1.10469717 1.03820414]\n",
            " [0.28663838 0.59150496]\n",
            " [0.57508221 1.35230126]\n",
            " [0.16465341 1.40776698]\n",
            " [1.18547033 0.66879463]\n",
            " [0.71549007 1.22760958]\n",
            " [1.10220429 0.75989602]\n",
            " [1.03519301 1.16489164]\n",
            " [1.11964568 0.88813392]\n",
            " [0.52282579 1.42495106]]\n"
          ]
        }
      ]
    },
    {
      "cell_type": "markdown",
      "metadata": {
        "id": "b7109c9f"
      },
      "source": [
        "#### 35. Create random vector Z of size 10 and replace the maximum value by 0 (★★☆)\n",
        "Hint : We can see the index of maximum value using `Z.argmax()`"
      ],
      "id": "b7109c9f"
    },
    {
      "cell_type": "code",
      "metadata": {
        "id": "f79e79a7",
        "colab": {
          "base_uri": "https://localhost:8080/"
        },
        "outputId": "36de77a7-ce91-44dc-a44d-564b52e951f6"
      },
      "source": [
        "Z = np.random.random(10)\n",
        "maximum_index = Z.argmax()\n",
        "Z[maximum_index]=0\n",
        "Z\n"
      ],
      "id": "f79e79a7",
      "execution_count": 20,
      "outputs": [
        {
          "output_type": "execute_result",
          "data": {
            "text/plain": [
              "array([0.75946997, 0.88543218, 0.5558448 , 0.52081273, 0.03914472,\n",
              "       0.8413004 , 0.93185531, 0.96942087, 0.        , 0.88520641])"
            ]
          },
          "metadata": {},
          "execution_count": 20
        }
      ]
    },
    {
      "cell_type": "markdown",
      "metadata": {
        "id": "e6e1ae2f"
      },
      "source": [
        "#### 36. How to find the closest value (to a given scalar v) in a vector Z? (★★☆)\n",
        "```python\n",
        "Z = np.arange(100)\n",
        "v = np.random.uniform(0,100)\n",
        "```\n",
        "Hint : Coumpute the distances between the each elements of Z and the scalar v. After that, we can see the index of minimum value using `argmin()`.  "
      ],
      "id": "e6e1ae2f"
    },
    {
      "cell_type": "code",
      "source": [
        "Z = np.array([0.44543135, 0.15272685, 0.        , 0.87774566, 0.23038287,\n",
        "       0.63059028, 0.85004996, 0.4217004 , 0.87033034, 0.32653317])\n",
        "\n",
        "v = np.random.uniform(0, 100)\n",
        "\n",
        "dist = np.abs(Z - v)\n",
        "\n",
        "index = np.argmin(dist)\n",
        "\n",
        "closest_value = Z[index]\n",
        "\n",
        "print(\"Closest value in a vector Z:\", closest_value)\n"
      ],
      "metadata": {
        "id": "QkQ2Mii77FrE",
        "colab": {
          "base_uri": "https://localhost:8080/"
        },
        "outputId": "bb0aae3e-a966-4bc4-eed3-9aa3cdffb5ce"
      },
      "id": "QkQ2Mii77FrE",
      "execution_count": 21,
      "outputs": [
        {
          "output_type": "stream",
          "name": "stdout",
          "text": [
            "Closest value in a vector Z: 0.87774566\n"
          ]
        }
      ]
    },
    {
      "cell_type": "markdown",
      "metadata": {
        "id": "f98713a6"
      },
      "source": [
        "#### 37. What is the equivalent of enumerate for numpy arrays? (★★☆)\n",
        "Hint : Use `numpy.ndenumerate()`or `numpy.ndindex()`\n",
        "\n",
        "Example of the output :\n",
        "```python\n",
        "Z = np.arange(9).reshape(3,3)\n",
        "```\n",
        "```python\n",
        "# output\n",
        "(0, 0) 0\n",
        "(0, 1) 1\n",
        "(0, 2) 2\n",
        "(1, 0) 3\n",
        "(1, 1) 4\n",
        "(1, 2) 5\n",
        "(2, 0) 6\n",
        "(2, 1) 7\n",
        "(2, 2) 8\n",
        "```"
      ],
      "id": "f98713a6"
    },
    {
      "cell_type": "code",
      "metadata": {
        "id": "64795f84",
        "colab": {
          "base_uri": "https://localhost:8080/"
        },
        "outputId": "429ead94-bc80-48a6-b728-fb337500ead6"
      },
      "source": [
        "Z = np.arange(9).reshape(3,3)\n",
        "\n",
        "for index, value in np.ndenumerate(Z): # enumerate() - (인덱스,값)을 동시에 반환하는 함수 / index() - 인덱스만 반환하는 함수\n",
        "\n",
        "    print(index, value)"
      ],
      "id": "64795f84",
      "execution_count": 22,
      "outputs": [
        {
          "output_type": "stream",
          "name": "stdout",
          "text": [
            "(0, 0) 0\n",
            "(0, 1) 1\n",
            "(0, 2) 2\n",
            "(1, 0) 3\n",
            "(1, 1) 4\n",
            "(1, 2) 5\n",
            "(2, 0) 6\n",
            "(2, 1) 7\n",
            "(2, 2) 8\n"
          ]
        }
      ]
    },
    {
      "cell_type": "markdown",
      "metadata": {
        "id": "0cf413ee"
      },
      "source": [
        "#### 38. How to randomly place p elements in a 2D array? (★★☆)\n",
        "Hint : modify the code below\n",
        "```python\n",
        "n = 'size of a 2D array'\n",
        "p = 'the number of elements that you want to place'\n",
        "Z = np.zeros((n,n))\n",
        "np.put(Z, np.random.choice(range(n*n), p, replace = False),'value that you want to place')\n",
        "print(Z)\n",
        "```"
      ],
      "id": "0cf413ee"
    },
    {
      "cell_type": "code",
      "metadata": {
        "id": "dfc57e06",
        "colab": {
          "base_uri": "https://localhost:8080/"
        },
        "outputId": "5b6e1e51-00a2-4eda-c111-5672fb988abd"
      },
      "source": [
        "n = 3\n",
        "p = 2\n",
        "Z = np.zeros((n,n))\n",
        "np.put(Z, np.random.choice(range(n*n), p, replace = False),8)\n",
        "print(Z)"
      ],
      "id": "dfc57e06",
      "execution_count": 23,
      "outputs": [
        {
          "output_type": "stream",
          "name": "stdout",
          "text": [
            "[[0. 0. 0.]\n",
            " [0. 0. 8.]\n",
            " [0. 0. 8.]]\n"
          ]
        }
      ]
    },
    {
      "cell_type": "markdown",
      "metadata": {
        "id": "c0cf37e0"
      },
      "source": [
        "#### 39. How to sort an array below by the nth column? (★★☆)\n",
        "```python\n",
        "Z = np.random.randint(0,10,(3,3))\n",
        "```"
      ],
      "id": "c0cf37e0"
    },
    {
      "cell_type": "code",
      "metadata": {
        "id": "9336ca5f",
        "colab": {
          "base_uri": "https://localhost:8080/"
        },
        "outputId": "41dfc8f4-7e9c-4b0b-86ec-5662ee3563cc"
      },
      "source": [
        "array39_1 = np.array([[1, 7, 3],\n",
        "                     [9, 0, 1],\n",
        "                     [8, 6, 4]])\n",
        "indices = [0,2,1]\n",
        "answer39_1 = array39_1[indices]\n",
        "print(array39_1,'\\n\\n',answer39_1)"
      ],
      "id": "9336ca5f",
      "execution_count": 24,
      "outputs": [
        {
          "output_type": "stream",
          "name": "stdout",
          "text": [
            "[[1 7 3]\n",
            " [9 0 1]\n",
            " [8 6 4]] \n",
            "\n",
            " [[1 7 3]\n",
            " [8 6 4]\n",
            " [9 0 1]]\n"
          ]
        }
      ]
    },
    {
      "cell_type": "code",
      "source": [
        "array39_2 = np.array([[7, 6, 7],\n",
        "                    [7, 8, 4],\n",
        "                    [5, 4, 7]])\n",
        "indices = [2,0,1]\n",
        "answer39_2 = array39_2[indices]\n",
        "print(array39_2,'\\n\\n',answer39_2)"
      ],
      "metadata": {
        "id": "0hZzZ6tn2K6V",
        "colab": {
          "base_uri": "https://localhost:8080/"
        },
        "outputId": "82d2b826-65ed-4d3d-d2f1-dd508f90e370"
      },
      "id": "0hZzZ6tn2K6V",
      "execution_count": 25,
      "outputs": [
        {
          "output_type": "stream",
          "name": "stdout",
          "text": [
            "[[7 6 7]\n",
            " [7 8 4]\n",
            " [5 4 7]] \n",
            "\n",
            " [[5 4 7]\n",
            " [7 6 7]\n",
            " [7 8 4]]\n"
          ]
        }
      ]
    },
    {
      "cell_type": "code",
      "source": [
        "array39_3 = np.array([[7, 9, 5],\n",
        "                      [1, 8, 2],\n",
        "                      [6, 8, 1]])\n",
        "indices = [2,1,0]\n",
        "answer39_3 = array39_3[indices]\n",
        "print(array39_3,'\\n\\n',answer39_3)"
      ],
      "metadata": {
        "id": "z4zqQXvt2NaB",
        "colab": {
          "base_uri": "https://localhost:8080/"
        },
        "outputId": "35607c65-1e7a-43ac-e442-dc93c1f631e9"
      },
      "id": "z4zqQXvt2NaB",
      "execution_count": 26,
      "outputs": [
        {
          "output_type": "stream",
          "name": "stdout",
          "text": [
            "[[7 9 5]\n",
            " [1 8 2]\n",
            " [6 8 1]] \n",
            "\n",
            " [[6 8 1]\n",
            " [1 8 2]\n",
            " [7 9 5]]\n"
          ]
        }
      ]
    }
  ]
}