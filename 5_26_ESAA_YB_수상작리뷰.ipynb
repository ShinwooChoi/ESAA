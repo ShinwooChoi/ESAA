{
  "nbformat": 4,
  "nbformat_minor": 0,
  "metadata": {
    "colab": {
      "provenance": [],
      "authorship_tag": "ABX9TyNFjLhbtH98kbDejp/SJyUd",
      "include_colab_link": true
    },
    "kernelspec": {
      "name": "python3",
      "display_name": "Python 3"
    },
    "language_info": {
      "name": "python"
    }
  },
  "cells": [
    {
      "cell_type": "markdown",
      "metadata": {
        "id": "view-in-github",
        "colab_type": "text"
      },
      "source": [
        "<a href=\"https://colab.research.google.com/github/ShinwooChoi/ESAA/blob/main/5_26_ESAA_YB_%EC%88%98%EC%83%81%EC%9E%91%EB%A6%AC%EB%B7%B0.ipynb\" target=\"_parent\"><img src=\"https://colab.research.google.com/assets/colab-badge.svg\" alt=\"Open In Colab\"/></a>"
      ]
    },
    {
      "cell_type": "markdown",
      "source": [
        "- 주제: Social media usage\n",
        "\n",
        "- 데이터:\n",
        "\n",
        "User_ID\n",
        "\n",
        "App\n",
        "\n",
        "Daily_Minutes_Spent\n",
        "\n",
        "Posts_Per_Day\n",
        "\n",
        "Likes_Per_Day\n",
        "\n",
        "Follows_Per_Day\n",
        "\n",
        "\n",
        "- 코드 리뷰:\n",
        "\n",
        "1. Data Collection\n",
        "2. Exploratory Data Analysis (EDA)\n",
        " - Data Cleaning\n",
        " - Descriptive Analysis\n",
        " - Correlation Analysis\n",
        " - Visualization\n",
        "3. Feature Engineering\n",
        "4. Model Building\n",
        "5. Result Analysis\n",
        "\n",
        "- 차별점 및 배울점\n",
        "추가적인 변수 생성하여 분석을 더 깊이있게 진행"
      ],
      "metadata": {
        "id": "os3D0HaD5D2E"
      }
    }
  ]
}