{
  "nbformat": 4,
  "nbformat_minor": 0,
  "metadata": {
    "colab": {
      "provenance": [],
      "authorship_tag": "ABX9TyNk3caw9CEXVRMTeUxr9yhw",
      "include_colab_link": true
    },
    "kernelspec": {
      "name": "python3",
      "display_name": "Python 3"
    },
    "language_info": {
      "name": "python"
    }
  },
  "cells": [
    {
      "cell_type": "markdown",
      "metadata": {
        "id": "view-in-github",
        "colab_type": "text"
      },
      "source": [
        "<a href=\"https://colab.research.google.com/github/ShinwooChoi/ESAA/blob/main/5_12_ESAA_YB_%EC%88%98%EC%83%81%EC%9E%91%EB%A6%AC%EB%B7%B0.ipynb\" target=\"_parent\"><img src=\"https://colab.research.google.com/assets/colab-badge.svg\" alt=\"Open In Colab\"/></a>"
      ]
    },
    {
      "cell_type": "markdown",
      "source": [
        "1. 주제 및 데이터\n",
        "- 주제: 소비자 데이터 기반 소비 예측 AI 해커톤\n",
        "- 전체 목표:\n",
        "당신은 마케팅 분석가이고 CMO로부터 최근 마케팅 캠페인이 기대만큼 효과적이지 않다는 말을 들었습니다. 이 문제를 이해하고 데이터 기반 솔루션을 제안하려면 데이터 세트를 분석해야 합니다.\n",
        "\n",
        "[Dataset]\n",
        "- id : 샘플 아이디\n",
        "- Year_Birth : 고객 생년월일\n",
        "- Education : 고객 학력\n",
        "- Marital_status : 고객 결혼 상태\n",
        "- Income : 고객 연간 가구 소득\n",
        "- Kidhome : 고객 가구의 자녀 수\n",
        "- Teenhome : 고객 가구의 청소년 수\n",
        "- Dt_Customer : 고객이 회사에 등록한 날짜\n",
        "- Recency : 고객의 마지막 구매 이후 일수\n",
        "- NumDealsPurchases : 할인된 구매 횟수\n",
        "- NumWebPurchases : 회사 웹사이트를 통한 구매 건수\n",
        "- NumCatalogPurchases : 카탈로그를 사용한 구매 수\n",
        "- NumStorePuchases : 매장에서 직접 구매한 횟수\n",
        "- NumWebVisitsMonth : 지난 달 회사 웹사이트 방문 횟수\n",
        "- AcceptedCmp1: 고객이 첫 번째 캠페인에서 제안을 수락한 경우 1, 그렇지 않은 경우 0\n",
        "- AcceptedCmp2: 고객이 두 번째 캠페인에서 제안을 수락한 경우 1, 그렇지 않은 경우 0\n",
        "- AcceptedCmp3: 고객이 세 번째 캠페인에서 제안을 수락한 경우 1, 그렇지 않은 경우 0\n",
        "- AcceptedCmp4: 고객이 네 번째 캠페인에서 제안을 수락한 경우 1, 그렇지 않은 경우 0\n",
        "- AcceptedCmp5: 고객이 5번째 캠페인에서 제안을 수락한 경우 1, 그렇지 않은 경우 0\n",
        "- Complain : 고객이 지난 2년 동안 불만을 제기한 경우 1, 그렇지 않은 경우 0\n",
        "- Response : 고객이 마지막 캠페인에서 제안을 수락한 경우 1, 그렇지 않은 경우 0\n",
        "- target : 고객의 제품 총 소비량\n"
      ],
      "metadata": {
        "id": "kVomHryxmVyU"
      }
    },
    {
      "cell_type": "markdown",
      "source": [
        "2. 코드 분석\n",
        "\n",
        "[EDA]\n",
        "- Null Value:\n",
        "데이터는 null 값이 존재하지 않음\n",
        "- Outliers) 이상치를 포함하는 기능 식별:\n",
        "- 결과: outlier로 생각할 수 있는 것은 Year_Birth가 1900보다 작은 것과 Income이 매우 큰 경우 두가지\n",
        "- 데이터 변형하기)\n",
        "data type보고 적절한 데이터 타입으로 변형\n",
        "- 결과: Dt_Customer 변수는 datetime type으로 변경\n",
        "- 칼럼 엔지니어링)\n",
        "칼럼들의 관계를 파악해서 새로운 파생 변수 만들기\n",
        "\n",
        "'Kidhome'과 'Teenhome'을 합쳐서 전체 부양가족수를 나타내는 'Dependents' 변수 생성\n",
        "\n",
        "Dt_Customer에서 연도 사용 'Year_Customer'\n",
        "Purchase 변수들의 값을 모두 합하여 사용\n",
        "\n",
        "'TotalPurchases'\n",
        "Campaign에 총 몇번 응했는 지 Cmp 변수들의 값을 모두 합하여 사용 'TotalCampaignsAcc'\n",
        "\n",
        "- \"Income\" 클러스터:\n",
        "지출 금액('TotalMnt')과 구매 횟수('TotalPurchases')는 'Income'과 양의 상관관계가 있습니다./\n",
        "매장, 웹 또는 카탈로그('NumStorePurchases', 'NumWebPurchases', 'NumCatalogPurchases')를 통한 구매는 'Income'과 양의 상관관계가 있습니다.\n",
        "- \"Dependents\" 클러스터:\n",
        "지출 금액('TotalMnt') 및 구매 횟수('TotalPurchases')는 'Dependents'과 음의 상관 관계가 있습니다./\n",
        "구매 거래('NumDealsPurchases')는 'Dependents'과 양의 상관 관계가 있고 'Income'과 음의 상관 관계가 있습니다.\n",
        "- \"AcceptedCmp\" 클러스터:\n",
        "광고 캠페인의 수락('AcceptedCmp' 및 'Response')은 서로 강한 양의 상관 관계가 있습니다.\n",
        "/광고 캠페인은 \"Income\"과 약한 양의 상관관계가 나타내고 \"Dependents\"와 약한 음의 상관관계가 나타납니다.\n",
        "\n",
        "\n",
        "\n",
        "- <어떤 캠페인이 가장 효과적이었는지?>\n",
        "\n",
        "- 마케팅 캠페인의 성공률을 그래프로 보여줌:\n",
        "- 결과: 가장 최근의 캠페인이 가장 성공함 (column name: Response)\n",
        "\n",
        "\n",
        "\n"
      ],
      "metadata": {
        "id": "4pFFcuj9mXHL"
      }
    },
    {
      "cell_type": "markdown",
      "source": [
        "3. 차별점 및 배울점\n",
        "\n",
        "- 결측치 처리하는 방법: 변수별 결측치 비율을 확인하고, 일부 변수는 삭제 또는 평균/최빈값 등으로 대체.\n",
        "- 파생 변수 생성: 총 지출(total_spent), 자녀 수(num_kids), 가족 규모(family_size) 등 도메인 기반의 새로운 변수 생성.\n",
        "예: Income의 결측값 처리 등.\n",
        "\n",
        "- 데이터의 분포, 상관관계 등을 시각화하여 직관적으로 이해할 수 있도록 구성되어 있다. 이는 데이터의 특성을 빠르게 파악하는 데 도움이 되었다.\n",
        "\n",
        "- 국제적인 분석 자료의 활용: 해외의 우수한 분석 자료를 참고하고, 이를 국내 상황에 맞게 적용하는 방법을 배울 수 있었다."
      ],
      "metadata": {
        "id": "beB2mq7Smqqw"
      }
    }
  ]
}