{
  "nbformat": 4,
  "nbformat_minor": 0,
  "metadata": {
    "colab": {
      "provenance": [],
      "authorship_tag": "ABX9TyONMwVozBNyr9G91Yc1EK+c",
      "include_colab_link": true
    },
    "kernelspec": {
      "name": "python3",
      "display_name": "Python 3"
    },
    "language_info": {
      "name": "python"
    }
  },
  "cells": [
    {
      "cell_type": "markdown",
      "metadata": {
        "id": "view-in-github",
        "colab_type": "text"
      },
      "source": [
        "<a href=\"https://colab.research.google.com/github/ShinwooChoi/ESAA/blob/main/5_19_ESAA_YB_%EC%88%98%EC%83%81%EC%9E%91%EB%A6%AC%EB%B7%B0.ipynb\" target=\"_parent\"><img src=\"https://colab.research.google.com/assets/colab-badge.svg\" alt=\"Open In Colab\"/></a>"
      ]
    },
    {
      "cell_type": "markdown",
      "source": [
        "###주제 및 데이터\n",
        "주제: 생체 신호를 이용한 흡연자 상태의 이진 예측"
      ],
      "metadata": {
        "id": "j1l9eZX_nTaV"
      }
    },
    {
      "cell_type": "markdown",
      "source": [
        "###데이터\n",
        "\n",
        "- age                        18\n",
        "- height(cm)                 14\n",
        "- weight(kg)                 28\n",
        "- waist(cm)                 531\n",
        "- eyesight(left)             20\n",
        "- eyesight(right)            17\n",
        "- hearing(left)               2\n",
        "- hearing(right)              2\n",
        "- systolic                  112\n",
        "- relaxation                 75\n",
        "- fasting blood sugar       229\n",
        "- Cholesterol               227\n",
        "- triglyceride              392\n",
        "- HDL                       108\n",
        "- LDL                       222\n",
        "- hemoglobin                134\n",
        "- Urine protein               6\n",
        "- serum creatinine           28\n",
        "- AST                       140\n",
        "- ALT                       188\n",
        "- Gtp                       362\n",
        "- dental caries               2\n",
        "- smoking                     2\n",
        "\n",
        "\n",
        "헤모글로빈, 체중, 키, Gtp, 혈청 크레아티닌, 충치와 같은 특성이 중요한 특성\n",
        "\n",
        "**target = 'smoking'**\n",
        "\n"
      ],
      "metadata": {
        "id": "bqfrVwNZsmj0"
      }
    },
    {
      "cell_type": "markdown",
      "source": [
        "###코드 리뷰\n",
        "\n",
        "[EDA]\n",
        "- Adding relational features\n",
        "- + 'BMI'= [\"weight(kg)\"] / ([\"height(cm)\"]/100)**2\n",
        "- + 'HDL-TGD ratio'= [\"HDL\"] / [\"triglyceride\"]\n",
        "\n",
        "- Removing Non-related parameters (\"id\")\n",
        "- train-test data split\n",
        "\n",
        "\n",
        "[Modeling]\n",
        "- XGBoost + Optuna\n",
        "\n"
      ],
      "metadata": {
        "id": "pTsdZWzInXBf"
      }
    },
    {
      "cell_type": "markdown",
      "source": [
        "###차별점 및 배울점\n",
        "\n",
        "- 헤모글로빈 x 헤모글로빈, 헤모글로빈 x 키, 헤모글로빈 x 체중, 체중 x 키, 헤모글로빈 x Gtp, 헤모글로빈 x 혈청 크레아티닌 과 같은 특성을 추가하여 헤모글로빈과 결합한 부분\n",
        "- 유사 레이블 기법 추가"
      ],
      "metadata": {
        "id": "hqZdZ2IFnZEp"
      }
    }
  ]
}