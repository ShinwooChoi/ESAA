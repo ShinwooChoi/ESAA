{
  "nbformat": 4,
  "nbformat_minor": 0,
  "metadata": {
    "colab": {
      "provenance": [],
      "authorship_tag": "ABX9TyO+uzF2HTRnD9fVyVuN1NhD",
      "include_colab_link": true
    },
    "kernelspec": {
      "name": "python3",
      "display_name": "Python 3"
    },
    "language_info": {
      "name": "python"
    }
  },
  "cells": [
    {
      "cell_type": "markdown",
      "metadata": {
        "id": "view-in-github",
        "colab_type": "text"
      },
      "source": [
        "<a href=\"https://colab.research.google.com/github/ShinwooChoi/ESAA/blob/main/9_5_ESAA_OB_%EC%88%98%EC%83%81%EC%9E%91%EB%A6%AC%EB%B7%B0.ipynb\" target=\"_parent\"><img src=\"https://colab.research.google.com/assets/colab-badge.svg\" alt=\"Open In Colab\"/></a>"
      ]
    },
    {
      "cell_type": "markdown",
      "source": [
        "##[데이콘]데이터 AI를 활용한 물가 예측 경진대회: 농산물 가격을 중심으로"
      ],
      "metadata": {
        "id": "t69-3837HUyb"
      }
    },
    {
      "cell_type": "markdown",
      "source": [
        "배경:\n",
        "- 농산물 가격의 예측을 중심으로 데이터를 활용한 실질적 해법 모색\n",
        "- 데이터 기반의 정책 수립과 국민 경제에 기여할 수 있는 다양한 가능성 탐구"
      ],
      "metadata": {
        "id": "t6_PEPVaFy6p"
      }
    },
    {
      "cell_type": "markdown",
      "source": [
        "주제\n",
        "- 국민생황과 밀접한 10개 농산물 품목의 가격 예측"
      ],
      "metadata": {
        "id": "oKKorjkmGEcI"
      }
    },
    {
      "cell_type": "markdown",
      "source": [
        "[EDA]\n",
        "\n",
        "1. 탐색적 분석\n",
        "\n",
        "예측을 위해 최대 3개월의 기간까지만 사용\n",
        "하지만 자연적 요인은 씨앗의 파종부터 지배기 모두를 고려\n",
        "\n",
        "2. 데이터 시각화\n",
        "- 자연적 요인\n",
        "- 시계열 요인\n",
        "- 경제적 요인\n",
        "- 외부적 개입\n",
        "\n",
        "3. 인사이트: 누적값 적용\n",
        "일별 데이터의 단점인 높은 변동성과 과거의 극단 이벤트(태풍)의 미포착 문제를 누적 데이터를 통해 노이즈를 줄이고 과거의 극단적 기상 상황의 장기적 영향을 반영함으로서 극복"
      ],
      "metadata": {
        "id": "IRA7rNomFCG_"
      }
    },
    {
      "cell_type": "markdown",
      "source": [
        "[느낀점]\n",
        "\n",
        "다양한 메커니즘(어텐션 메커니즘)을 도입하여 계절성 패턴을 갖는 데이터셋에 대해 강한 어텐션 스코어를 확인 하는 부분이 인상깊었다."
      ],
      "metadata": {
        "id": "gG-ycWC7HQyY"
      }
    },
    {
      "cell_type": "code",
      "source": [],
      "metadata": {
        "id": "0rg3AxdsIHEO"
      },
      "execution_count": null,
      "outputs": []
    }
  ]
}